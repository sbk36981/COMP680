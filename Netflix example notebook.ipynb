{
 "cells": [
  {
   "cell_type": "code",
   "execution_count": 9,
   "metadata": {},
   "outputs": [],
   "source": [
    "import pandas as pd\n",
    "import numpy as np\n",
    "import matplotlib as plt"
   ]
  },
  {
   "cell_type": "code",
   "execution_count": 10,
   "metadata": {},
   "outputs": [
    {
     "data": {
      "text/html": [
       "<div>\n",
       "<style>\n",
       "    .dataframe thead tr:only-child th {\n",
       "        text-align: right;\n",
       "    }\n",
       "\n",
       "    .dataframe thead th {\n",
       "        text-align: left;\n",
       "    }\n",
       "\n",
       "    .dataframe tbody tr th {\n",
       "        vertical-align: top;\n",
       "    }\n",
       "</style>\n",
       "<table border=\"1\" class=\"dataframe\">\n",
       "  <thead>\n",
       "    <tr style=\"text-align: right;\">\n",
       "      <th></th>\n",
       "      <th>Subscriber ID</th>\n",
       "      <th>Show</th>\n",
       "      <th>Episodes Watched</th>\n",
       "      <th>Episode Length (m)</th>\n",
       "      <th>Total Mins watched</th>\n",
       "    </tr>\n",
       "  </thead>\n",
       "  <tbody>\n",
       "    <tr>\n",
       "      <th>0</th>\n",
       "      <td>2000</td>\n",
       "      <td>Walking Dead</td>\n",
       "      <td>2.63</td>\n",
       "      <td>40</td>\n",
       "      <td>105</td>\n",
       "    </tr>\n",
       "    <tr>\n",
       "      <th>1</th>\n",
       "      <td>2000</td>\n",
       "      <td>Lost</td>\n",
       "      <td>0.60</td>\n",
       "      <td>45</td>\n",
       "      <td>27</td>\n",
       "    </tr>\n",
       "    <tr>\n",
       "      <th>2</th>\n",
       "      <td>2000</td>\n",
       "      <td>Weeds</td>\n",
       "      <td>0.27</td>\n",
       "      <td>30</td>\n",
       "      <td>8</td>\n",
       "    </tr>\n",
       "    <tr>\n",
       "      <th>3</th>\n",
       "      <td>2000</td>\n",
       "      <td>Mad Men</td>\n",
       "      <td>0.40</td>\n",
       "      <td>45</td>\n",
       "      <td>18</td>\n",
       "    </tr>\n",
       "    <tr>\n",
       "      <th>4</th>\n",
       "      <td>2000</td>\n",
       "      <td>Pony</td>\n",
       "      <td>0.07</td>\n",
       "      <td>30</td>\n",
       "      <td>2</td>\n",
       "    </tr>\n",
       "  </tbody>\n",
       "</table>\n",
       "</div>"
      ],
      "text/plain": [
       "   Subscriber ID          Show  Episodes Watched  Episode Length (m)  \\\n",
       "0           2000  Walking Dead              2.63                  40   \n",
       "1           2000          Lost              0.60                  45   \n",
       "2           2000         Weeds              0.27                  30   \n",
       "3           2000       Mad Men              0.40                  45   \n",
       "4           2000          Pony              0.07                  30   \n",
       "\n",
       "   Total Mins watched  \n",
       "0                 105  \n",
       "1                  27  \n",
       "2                   8  \n",
       "3                  18  \n",
       "4                   2  "
      ]
     },
     "execution_count": 10,
     "metadata": {},
     "output_type": "execute_result"
    }
   ],
   "source": [
    "fname = 'Exercise_ Netflix Raw Data.csv'\n",
    "df = pd.read_csv(fname)\n",
    "df.drop(axis=1, labels=['Unnamed: 5'], inplace=True)\n",
    "df.head()"
   ]
  },
  {
   "cell_type": "markdown",
   "metadata": {},
   "source": [
    "Calculate the total time watched per subscriber:"
   ]
  },
  {
   "cell_type": "code",
   "execution_count": 11,
   "metadata": {},
   "outputs": [
    {
     "data": {
      "text/plain": [
       "Subscriber ID\n",
       "1       232\n",
       "2       233\n",
       "3       232\n",
       "4       202\n",
       "5       199\n",
       "6       228\n",
       "7       197\n",
       "8       199\n",
       "9       159\n",
       "10      215\n",
       "11      204\n",
       "12      168\n",
       "13      202\n",
       "14      214\n",
       "15      244\n",
       "16      165\n",
       "17      195\n",
       "18      258\n",
       "19      187\n",
       "20      205\n",
       "21      225\n",
       "22      181\n",
       "23      175\n",
       "24      185\n",
       "25      210\n",
       "26      185\n",
       "27      211\n",
       "28      180\n",
       "29      199\n",
       "30      178\n",
       "       ... \n",
       "1971    195\n",
       "1972    183\n",
       "1973    144\n",
       "1974    194\n",
       "1975    195\n",
       "1976    168\n",
       "1977    198\n",
       "1978    232\n",
       "1979    199\n",
       "1980    165\n",
       "1981    234\n",
       "1982    185\n",
       "1983    180\n",
       "1984    216\n",
       "1985    176\n",
       "1986    191\n",
       "1987    217\n",
       "1988    179\n",
       "1989    211\n",
       "1990    179\n",
       "1991    170\n",
       "1992    213\n",
       "1993    231\n",
       "1994    200\n",
       "1995    223\n",
       "1996    219\n",
       "1997    198\n",
       "1998    189\n",
       "1999    193\n",
       "2000    161\n",
       "Name: Total Mins watched, Length: 2000, dtype: int64"
      ]
     },
     "execution_count": 11,
     "metadata": {},
     "output_type": "execute_result"
    }
   ],
   "source": [
    "df.groupby('Subscriber ID')['Total Mins watched'].sum()"
   ]
  },
  {
   "cell_type": "code",
   "execution_count": null,
   "metadata": {},
   "outputs": [],
   "source": []
  }
 ],
 "metadata": {
  "kernelspec": {
   "display_name": "Python 3",
   "language": "python",
   "name": "python3"
  },
  "language_info": {
   "codemirror_mode": {
    "name": "ipython",
    "version": 3
   },
   "file_extension": ".py",
   "mimetype": "text/x-python",
   "name": "python",
   "nbconvert_exporter": "python",
   "pygments_lexer": "ipython3",
   "version": "3.6.3"
  }
 },
 "nbformat": 4,
 "nbformat_minor": 2
}
